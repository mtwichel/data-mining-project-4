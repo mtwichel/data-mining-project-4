{
 "cells": [
  {
   "cell_type": "markdown",
   "metadata": {},
   "source": [
    "# Project 4\n",
    "Marcus Twichel"
   ]
  },
  {
   "cell_type": "markdown",
   "metadata": {},
   "source": [
    "## Data Summary\n",
    "This project aims to find the most excellent rated red wines from the UCI repositories \"Wine Quality\" dataset (P. Cortez, A. Cerdeira, F. Almeida, T. Matos and J. Reis.). The dataset contains samples from 1,599 wines, and each sample has 11 numerical attributes describing various characteristics of the wine. These include citric acid levels, density, pH, alcohol percentage, and more. It then gives a quality score of 3-8, with 8 being the highest quality. There are no missing values.\n",
    "\n",
    "My aim will be to predict the quality of the wines and try to find the exceptionally good wines, which for my purposes means they score a 7 or 8. I will use classification to try and predict this."
   ]
  },
  {
   "cell_type": "markdown",
   "metadata": {},
   "source": [
    "## Setup and Exploration\n",
    "I first began importing my data and looking a few rows for context of the data."
   ]
  },
  {
   "cell_type": "code",
   "execution_count": 5,
   "metadata": {},
   "outputs": [],
   "source": [
    "import pandas as pd"
   ]
  },
  {
   "cell_type": "code",
   "execution_count": 18,
   "metadata": {},
   "outputs": [
    {
     "data": {
      "text/html": [
       "<div>\n",
       "<style scoped>\n",
       "    .dataframe tbody tr th:only-of-type {\n",
       "        vertical-align: middle;\n",
       "    }\n",
       "\n",
       "    .dataframe tbody tr th {\n",
       "        vertical-align: top;\n",
       "    }\n",
       "\n",
       "    .dataframe thead th {\n",
       "        text-align: right;\n",
       "    }\n",
       "</style>\n",
       "<table border=\"1\" class=\"dataframe\">\n",
       "  <thead>\n",
       "    <tr style=\"text-align: right;\">\n",
       "      <th></th>\n",
       "      <th>fixed acidity</th>\n",
       "      <th>volatile acidity</th>\n",
       "      <th>citric acid</th>\n",
       "      <th>residual sugar</th>\n",
       "      <th>chlorides</th>\n",
       "      <th>free sulfur dioxide</th>\n",
       "      <th>total sulfur dioxide</th>\n",
       "      <th>density</th>\n",
       "      <th>pH</th>\n",
       "      <th>sulphates</th>\n",
       "      <th>alcohol</th>\n",
       "    </tr>\n",
       "  </thead>\n",
       "  <tbody>\n",
       "    <tr>\n",
       "      <th>0</th>\n",
       "      <td>7.4</td>\n",
       "      <td>0.70</td>\n",
       "      <td>0.00</td>\n",
       "      <td>1.9</td>\n",
       "      <td>0.076</td>\n",
       "      <td>11.0</td>\n",
       "      <td>34.0</td>\n",
       "      <td>0.9978</td>\n",
       "      <td>3.51</td>\n",
       "      <td>0.56</td>\n",
       "      <td>9.4</td>\n",
       "    </tr>\n",
       "    <tr>\n",
       "      <th>1</th>\n",
       "      <td>7.8</td>\n",
       "      <td>0.88</td>\n",
       "      <td>0.00</td>\n",
       "      <td>2.6</td>\n",
       "      <td>0.098</td>\n",
       "      <td>25.0</td>\n",
       "      <td>67.0</td>\n",
       "      <td>0.9968</td>\n",
       "      <td>3.20</td>\n",
       "      <td>0.68</td>\n",
       "      <td>9.8</td>\n",
       "    </tr>\n",
       "    <tr>\n",
       "      <th>2</th>\n",
       "      <td>7.8</td>\n",
       "      <td>0.76</td>\n",
       "      <td>0.04</td>\n",
       "      <td>2.3</td>\n",
       "      <td>0.092</td>\n",
       "      <td>15.0</td>\n",
       "      <td>54.0</td>\n",
       "      <td>0.9970</td>\n",
       "      <td>3.26</td>\n",
       "      <td>0.65</td>\n",
       "      <td>9.8</td>\n",
       "    </tr>\n",
       "    <tr>\n",
       "      <th>3</th>\n",
       "      <td>11.2</td>\n",
       "      <td>0.28</td>\n",
       "      <td>0.56</td>\n",
       "      <td>1.9</td>\n",
       "      <td>0.075</td>\n",
       "      <td>17.0</td>\n",
       "      <td>60.0</td>\n",
       "      <td>0.9980</td>\n",
       "      <td>3.16</td>\n",
       "      <td>0.58</td>\n",
       "      <td>9.8</td>\n",
       "    </tr>\n",
       "    <tr>\n",
       "      <th>4</th>\n",
       "      <td>7.4</td>\n",
       "      <td>0.70</td>\n",
       "      <td>0.00</td>\n",
       "      <td>1.9</td>\n",
       "      <td>0.076</td>\n",
       "      <td>11.0</td>\n",
       "      <td>34.0</td>\n",
       "      <td>0.9978</td>\n",
       "      <td>3.51</td>\n",
       "      <td>0.56</td>\n",
       "      <td>9.4</td>\n",
       "    </tr>\n",
       "  </tbody>\n",
       "</table>\n",
       "</div>"
      ],
      "text/plain": [
       "   fixed acidity  volatile acidity  citric acid  residual sugar  chlorides  \\\n",
       "0            7.4              0.70         0.00             1.9      0.076   \n",
       "1            7.8              0.88         0.00             2.6      0.098   \n",
       "2            7.8              0.76         0.04             2.3      0.092   \n",
       "3           11.2              0.28         0.56             1.9      0.075   \n",
       "4            7.4              0.70         0.00             1.9      0.076   \n",
       "\n",
       "   free sulfur dioxide  total sulfur dioxide  density    pH  sulphates  \\\n",
       "0                 11.0                  34.0   0.9978  3.51       0.56   \n",
       "1                 25.0                  67.0   0.9968  3.20       0.68   \n",
       "2                 15.0                  54.0   0.9970  3.26       0.65   \n",
       "3                 17.0                  60.0   0.9980  3.16       0.58   \n",
       "4                 11.0                  34.0   0.9978  3.51       0.56   \n",
       "\n",
       "   alcohol  \n",
       "0      9.4  \n",
       "1      9.8  \n",
       "2      9.8  \n",
       "3      9.8  \n",
       "4      9.4  "
      ]
     },
     "execution_count": 18,
     "metadata": {},
     "output_type": "execute_result"
    }
   ],
   "source": [
    "raw_data = pd.read_csv('~/Downloads/winequality-red.csv')\n",
    "D = raw_data.loc[:, raw_data.columns != 'quality']\n",
    "D.head()"
   ]
  },
  {
   "cell_type": "code",
   "execution_count": 19,
   "metadata": {},
   "outputs": [
    {
     "data": {
      "text/html": [
       "<div>\n",
       "<style scoped>\n",
       "    .dataframe tbody tr th:only-of-type {\n",
       "        vertical-align: middle;\n",
       "    }\n",
       "\n",
       "    .dataframe tbody tr th {\n",
       "        vertical-align: top;\n",
       "    }\n",
       "\n",
       "    .dataframe thead th {\n",
       "        text-align: right;\n",
       "    }\n",
       "</style>\n",
       "<table border=\"1\" class=\"dataframe\">\n",
       "  <thead>\n",
       "    <tr style=\"text-align: right;\">\n",
       "      <th></th>\n",
       "      <th>fixed acidity</th>\n",
       "      <th>volatile acidity</th>\n",
       "      <th>citric acid</th>\n",
       "      <th>residual sugar</th>\n",
       "      <th>chlorides</th>\n",
       "      <th>free sulfur dioxide</th>\n",
       "      <th>total sulfur dioxide</th>\n",
       "      <th>density</th>\n",
       "      <th>pH</th>\n",
       "      <th>sulphates</th>\n",
       "      <th>alcohol</th>\n",
       "    </tr>\n",
       "  </thead>\n",
       "  <tbody>\n",
       "    <tr>\n",
       "      <th>count</th>\n",
       "      <td>1599.000000</td>\n",
       "      <td>1599.000000</td>\n",
       "      <td>1599.000000</td>\n",
       "      <td>1599.000000</td>\n",
       "      <td>1599.000000</td>\n",
       "      <td>1599.000000</td>\n",
       "      <td>1599.000000</td>\n",
       "      <td>1599.000000</td>\n",
       "      <td>1599.000000</td>\n",
       "      <td>1599.000000</td>\n",
       "      <td>1599.000000</td>\n",
       "    </tr>\n",
       "    <tr>\n",
       "      <th>mean</th>\n",
       "      <td>8.319637</td>\n",
       "      <td>0.527821</td>\n",
       "      <td>0.270976</td>\n",
       "      <td>2.538806</td>\n",
       "      <td>0.087467</td>\n",
       "      <td>15.874922</td>\n",
       "      <td>46.467792</td>\n",
       "      <td>0.996747</td>\n",
       "      <td>3.311113</td>\n",
       "      <td>0.658149</td>\n",
       "      <td>10.422983</td>\n",
       "    </tr>\n",
       "    <tr>\n",
       "      <th>std</th>\n",
       "      <td>1.741096</td>\n",
       "      <td>0.179060</td>\n",
       "      <td>0.194801</td>\n",
       "      <td>1.409928</td>\n",
       "      <td>0.047065</td>\n",
       "      <td>10.460157</td>\n",
       "      <td>32.895324</td>\n",
       "      <td>0.001887</td>\n",
       "      <td>0.154386</td>\n",
       "      <td>0.169507</td>\n",
       "      <td>1.065668</td>\n",
       "    </tr>\n",
       "    <tr>\n",
       "      <th>min</th>\n",
       "      <td>4.600000</td>\n",
       "      <td>0.120000</td>\n",
       "      <td>0.000000</td>\n",
       "      <td>0.900000</td>\n",
       "      <td>0.012000</td>\n",
       "      <td>1.000000</td>\n",
       "      <td>6.000000</td>\n",
       "      <td>0.990070</td>\n",
       "      <td>2.740000</td>\n",
       "      <td>0.330000</td>\n",
       "      <td>8.400000</td>\n",
       "    </tr>\n",
       "    <tr>\n",
       "      <th>25%</th>\n",
       "      <td>7.100000</td>\n",
       "      <td>0.390000</td>\n",
       "      <td>0.090000</td>\n",
       "      <td>1.900000</td>\n",
       "      <td>0.070000</td>\n",
       "      <td>7.000000</td>\n",
       "      <td>22.000000</td>\n",
       "      <td>0.995600</td>\n",
       "      <td>3.210000</td>\n",
       "      <td>0.550000</td>\n",
       "      <td>9.500000</td>\n",
       "    </tr>\n",
       "    <tr>\n",
       "      <th>50%</th>\n",
       "      <td>7.900000</td>\n",
       "      <td>0.520000</td>\n",
       "      <td>0.260000</td>\n",
       "      <td>2.200000</td>\n",
       "      <td>0.079000</td>\n",
       "      <td>14.000000</td>\n",
       "      <td>38.000000</td>\n",
       "      <td>0.996750</td>\n",
       "      <td>3.310000</td>\n",
       "      <td>0.620000</td>\n",
       "      <td>10.200000</td>\n",
       "    </tr>\n",
       "    <tr>\n",
       "      <th>75%</th>\n",
       "      <td>9.200000</td>\n",
       "      <td>0.640000</td>\n",
       "      <td>0.420000</td>\n",
       "      <td>2.600000</td>\n",
       "      <td>0.090000</td>\n",
       "      <td>21.000000</td>\n",
       "      <td>62.000000</td>\n",
       "      <td>0.997835</td>\n",
       "      <td>3.400000</td>\n",
       "      <td>0.730000</td>\n",
       "      <td>11.100000</td>\n",
       "    </tr>\n",
       "    <tr>\n",
       "      <th>max</th>\n",
       "      <td>15.900000</td>\n",
       "      <td>1.580000</td>\n",
       "      <td>1.000000</td>\n",
       "      <td>15.500000</td>\n",
       "      <td>0.611000</td>\n",
       "      <td>72.000000</td>\n",
       "      <td>289.000000</td>\n",
       "      <td>1.003690</td>\n",
       "      <td>4.010000</td>\n",
       "      <td>2.000000</td>\n",
       "      <td>14.900000</td>\n",
       "    </tr>\n",
       "  </tbody>\n",
       "</table>\n",
       "</div>"
      ],
      "text/plain": [
       "       fixed acidity  volatile acidity  citric acid  residual sugar  \\\n",
       "count    1599.000000       1599.000000  1599.000000     1599.000000   \n",
       "mean        8.319637          0.527821     0.270976        2.538806   \n",
       "std         1.741096          0.179060     0.194801        1.409928   \n",
       "min         4.600000          0.120000     0.000000        0.900000   \n",
       "25%         7.100000          0.390000     0.090000        1.900000   \n",
       "50%         7.900000          0.520000     0.260000        2.200000   \n",
       "75%         9.200000          0.640000     0.420000        2.600000   \n",
       "max        15.900000          1.580000     1.000000       15.500000   \n",
       "\n",
       "         chlorides  free sulfur dioxide  total sulfur dioxide      density  \\\n",
       "count  1599.000000          1599.000000           1599.000000  1599.000000   \n",
       "mean      0.087467            15.874922             46.467792     0.996747   \n",
       "std       0.047065            10.460157             32.895324     0.001887   \n",
       "min       0.012000             1.000000              6.000000     0.990070   \n",
       "25%       0.070000             7.000000             22.000000     0.995600   \n",
       "50%       0.079000            14.000000             38.000000     0.996750   \n",
       "75%       0.090000            21.000000             62.000000     0.997835   \n",
       "max       0.611000            72.000000            289.000000     1.003690   \n",
       "\n",
       "                pH    sulphates      alcohol  \n",
       "count  1599.000000  1599.000000  1599.000000  \n",
       "mean      3.311113     0.658149    10.422983  \n",
       "std       0.154386     0.169507     1.065668  \n",
       "min       2.740000     0.330000     8.400000  \n",
       "25%       3.210000     0.550000     9.500000  \n",
       "50%       3.310000     0.620000    10.200000  \n",
       "75%       3.400000     0.730000    11.100000  \n",
       "max       4.010000     2.000000    14.900000  "
      ]
     },
     "execution_count": 19,
     "metadata": {},
     "output_type": "execute_result"
    }
   ],
   "source": [
    "D.describe()"
   ]
  },
  {
   "cell_type": "markdown",
   "metadata": {},
   "source": [
    "It appears some columns much lower standard deviations than others, so it may be those columns are not as good predictors as the others. Next I will look at the distribution of my classes."
   ]
  },
  {
   "cell_type": "code",
   "execution_count": 24,
   "metadata": {},
   "outputs": [],
   "source": [
    "import matplotlib.pyplot as plt"
   ]
  },
  {
   "cell_type": "code",
   "execution_count": 28,
   "metadata": {},
   "outputs": [
    {
     "data": {
      "text/plain": [
       "Text(0.5, 1.0, 'Wine Quality Distribution')"
      ]
     },
     "execution_count": 28,
     "metadata": {},
     "output_type": "execute_result"
    },
    {
     "data": {
      "image/png": "[encoded data removed]",
      "text/plain": [
       "<Figure size 432x288 with 1 Axes>"
      ]
     },
     "metadata": {
      "needs_background": "light"
     },
     "output_type": "display_data"
    }
   ],
   "source": [
    "classes = raw_data['quality']\n",
    "plt.hist(classes, bins=6)\n",
    "plt.xlabel('Wine Quality')\n",
    "plt.ylabel('Frequency')\n",
    "plt.title('Wine Quality Distribution')"
   ]
  },
  {
   "cell_type": "markdown",
   "metadata": {},
   "source": [
    "It appears that the vast majority of wines have a quality of 5, 6, and there are a few outliers that are especially bad or especially good.\n",
    "\n",
    "I would also like to visuallize the data to see if there is clear seperation in the data. However, since there are so many attributes, I'm going to use PCA to reduce the dimensionality to 2 so I can plot it visually."
   ]
  },
  {
   "cell_type": "code",
   "execution_count": 29,
   "metadata": {},
   "outputs": [],
   "source": [
    "from sklearn.decomposition import PCA"
   ]
  },
  {
   "cell_type": "code",
   "execution_count": 40,
   "metadata": {},
   "outputs": [
    {
     "data": {
      "text/plain": [
       "<matplotlib.legend.Legend at 0x7fb2a6b47850>"
      ]
     },
     "execution_count": 40,
     "metadata": {},
     "output_type": "execute_result"
    },
    {
     "data": {
      "image/png": "[encoded data removed]",
      "text/plain": [
       "<Figure size 432x288 with 1 Axes>"
      ]
     },
     "metadata": {
      "needs_background": "light"
     },
     "output_type": "display_data"
    }
   ],
   "source": [
    "twoDimensionData = PCA(n_components=2).fit_transform(D)\n",
    "scatter = plt.scatter(twoDimensionData[:, 0], twoDimensionData[:, 1], c=classes)\n",
    "plt.xlabel('First Principal Component')\n",
    "plt.ylabel('Second Principal Component')\n",
    "plt.legend(handles=scatter.legend_elements()[0], labels=[3,4,5,6,7,8])\n"
   ]
  },
  {
   "cell_type": "markdown",
   "metadata": {},
   "source": [
    "Unfortunately, there doesn't appear to be any seperation yet."
   ]
  },
  {
   "cell_type": "markdown",
   "metadata": {},
   "source": [
    "## Preprocessing\n",
    "I will start preprocessing the data by applying standard normalization. I believe this will help because there are a few columns with a relativly small standard deviation and thus low variance. Since they have low variance, they proably can't contribute much to predicting quality."
   ]
  },
  {
   "cell_type": "code",
   "execution_count": 41,
   "metadata": {},
   "outputs": [
    {
     "data": {
      "text/html": [
       "<div>\n",
       "<style scoped>\n",
       "    .dataframe tbody tr th:only-of-type {\n",
       "        vertical-align: middle;\n",
       "    }\n",
       "\n",
       "    .dataframe tbody tr th {\n",
       "        vertical-align: top;\n",
       "    }\n",
       "\n",
       "    .dataframe thead th {\n",
       "        text-align: right;\n",
       "    }\n",
       "</style>\n",
       "<table border=\"1\" class=\"dataframe\">\n",
       "  <thead>\n",
       "    <tr style=\"text-align: right;\">\n",
       "      <th></th>\n",
       "      <th>fixed acidity</th>\n",
       "      <th>volatile acidity</th>\n",
       "      <th>citric acid</th>\n",
       "      <th>residual sugar</th>\n",
       "      <th>chlorides</th>\n",
       "      <th>free sulfur dioxide</th>\n",
       "      <th>total sulfur dioxide</th>\n",
       "      <th>density</th>\n",
       "      <th>pH</th>\n",
       "      <th>sulphates</th>\n",
       "      <th>alcohol</th>\n",
       "    </tr>\n",
       "  </thead>\n",
       "  <tbody>\n",
       "    <tr>\n",
       "      <th>count</th>\n",
       "      <td>1.599000e+03</td>\n",
       "      <td>1.599000e+03</td>\n",
       "      <td>1.599000e+03</td>\n",
       "      <td>1.599000e+03</td>\n",
       "      <td>1.599000e+03</td>\n",
       "      <td>1.599000e+03</td>\n",
       "      <td>1.599000e+03</td>\n",
       "      <td>1.599000e+03</td>\n",
       "      <td>1.599000e+03</td>\n",
       "      <td>1.599000e+03</td>\n",
       "      <td>1.599000e+03</td>\n",
       "    </tr>\n",
       "    <tr>\n",
       "      <th>mean</th>\n",
       "      <td>-1.570643e-14</td>\n",
       "      <td>-1.590973e-15</td>\n",
       "      <td>6.045057e-15</td>\n",
       "      <td>-1.344696e-15</td>\n",
       "      <td>5.093591e-15</td>\n",
       "      <td>-7.724347e-17</td>\n",
       "      <td>1.619856e-16</td>\n",
       "      <td>4.946064e-13</td>\n",
       "      <td>-5.937923e-15</td>\n",
       "      <td>-2.175036e-15</td>\n",
       "      <td>2.580411e-14</td>\n",
       "    </tr>\n",
       "    <tr>\n",
       "      <th>std</th>\n",
       "      <td>1.000000e+00</td>\n",
       "      <td>1.000000e+00</td>\n",
       "      <td>1.000000e+00</td>\n",
       "      <td>1.000000e+00</td>\n",
       "      <td>1.000000e+00</td>\n",
       "      <td>1.000000e+00</td>\n",
       "      <td>1.000000e+00</td>\n",
       "      <td>1.000000e+00</td>\n",
       "      <td>1.000000e+00</td>\n",
       "      <td>1.000000e+00</td>\n",
       "      <td>1.000000e+00</td>\n",
       "    </tr>\n",
       "    <tr>\n",
       "      <th>min</th>\n",
       "      <td>-2.136377e+00</td>\n",
       "      <td>-2.277567e+00</td>\n",
       "      <td>-1.391037e+00</td>\n",
       "      <td>-1.162333e+00</td>\n",
       "      <td>-1.603443e+00</td>\n",
       "      <td>-1.422055e+00</td>\n",
       "      <td>-1.230199e+00</td>\n",
       "      <td>-3.537625e+00</td>\n",
       "      <td>-3.699244e+00</td>\n",
       "      <td>-1.935902e+00</td>\n",
       "      <td>-1.898325e+00</td>\n",
       "    </tr>\n",
       "    <tr>\n",
       "      <th>25%</th>\n",
       "      <td>-7.004996e-01</td>\n",
       "      <td>-7.696903e-01</td>\n",
       "      <td>-9.290275e-01</td>\n",
       "      <td>-4.530767e-01</td>\n",
       "      <td>-3.711129e-01</td>\n",
       "      <td>-8.484502e-01</td>\n",
       "      <td>-7.438076e-01</td>\n",
       "      <td>-6.075656e-01</td>\n",
       "      <td>-6.549356e-01</td>\n",
       "      <td>-6.380200e-01</td>\n",
       "      <td>-8.661079e-01</td>\n",
       "    </tr>\n",
       "    <tr>\n",
       "      <th>50%</th>\n",
       "      <td>-2.410190e-01</td>\n",
       "      <td>-4.367545e-02</td>\n",
       "      <td>-5.634264e-02</td>\n",
       "      <td>-2.402999e-01</td>\n",
       "      <td>-1.798892e-01</td>\n",
       "      <td>-1.792441e-01</td>\n",
       "      <td>-2.574163e-01</td>\n",
       "      <td>1.759533e-03</td>\n",
       "      <td>-7.210449e-03</td>\n",
       "      <td>-2.250577e-01</td>\n",
       "      <td>-2.092427e-01</td>\n",
       "    </tr>\n",
       "    <tr>\n",
       "      <th>75%</th>\n",
       "      <td>5.056370e-01</td>\n",
       "      <td>6.264921e-01</td>\n",
       "      <td>7.650078e-01</td>\n",
       "      <td>4.340257e-02</td>\n",
       "      <td>5.382858e-02</td>\n",
       "      <td>4.899619e-01</td>\n",
       "      <td>4.721707e-01</td>\n",
       "      <td>5.766445e-01</td>\n",
       "      <td>5.757422e-01</td>\n",
       "      <td>4.238832e-01</td>\n",
       "      <td>6.352984e-01</td>\n",
       "    </tr>\n",
       "    <tr>\n",
       "      <th>max</th>\n",
       "      <td>4.353787e+00</td>\n",
       "      <td>5.876138e+00</td>\n",
       "      <td>3.742403e+00</td>\n",
       "      <td>9.192806e+00</td>\n",
       "      <td>1.112355e+01</td>\n",
       "      <td>5.365606e+00</td>\n",
       "      <td>7.372847e+00</td>\n",
       "      <td>3.678904e+00</td>\n",
       "      <td>4.526866e+00</td>\n",
       "      <td>7.916200e+00</td>\n",
       "      <td>4.201138e+00</td>\n",
       "    </tr>\n",
       "  </tbody>\n",
       "</table>\n",
       "</div>"
      ],
      "text/plain": [
       "       fixed acidity  volatile acidity   citric acid  residual sugar  \\\n",
       "count   1.599000e+03      1.599000e+03  1.599000e+03    1.599000e+03   \n",
       "mean   -1.570643e-14     -1.590973e-15  6.045057e-15   -1.344696e-15   \n",
       "std     1.000000e+00      1.000000e+00  1.000000e+00    1.000000e+00   \n",
       "min    -2.136377e+00     -2.277567e+00 -1.391037e+00   -1.162333e+00   \n",
       "25%    -7.004996e-01     -7.696903e-01 -9.290275e-01   -4.530767e-01   \n",
       "50%    -2.410190e-01     -4.367545e-02 -5.634264e-02   -2.402999e-01   \n",
       "75%     5.056370e-01      6.264921e-01  7.650078e-01    4.340257e-02   \n",
       "max     4.353787e+00      5.876138e+00  3.742403e+00    9.192806e+00   \n",
       "\n",
       "          chlorides  free sulfur dioxide  total sulfur dioxide       density  \\\n",
       "count  1.599000e+03         1.599000e+03          1.599000e+03  1.599000e+03   \n",
       "mean   5.093591e-15        -7.724347e-17          1.619856e-16  4.946064e-13   \n",
       "std    1.000000e+00         1.000000e+00          1.000000e+00  1.000000e+00   \n",
       "min   -1.603443e+00        -1.422055e+00         -1.230199e+00 -3.537625e+00   \n",
       "25%   -3.711129e-01        -8.484502e-01         -7.438076e-01 -6.075656e-01   \n",
       "50%   -1.798892e-01        -1.792441e-01         -2.574163e-01  1.759533e-03   \n",
       "75%    5.382858e-02         4.899619e-01          4.721707e-01  5.766445e-01   \n",
       "max    1.112355e+01         5.365606e+00          7.372847e+00  3.678904e+00   \n",
       "\n",
       "                 pH     sulphates       alcohol  \n",
       "count  1.599000e+03  1.599000e+03  1.599000e+03  \n",
       "mean  -5.937923e-15 -2.175036e-15  2.580411e-14  \n",
       "std    1.000000e+00  1.000000e+00  1.000000e+00  \n",
       "min   -3.699244e+00 -1.935902e+00 -1.898325e+00  \n",
       "25%   -6.549356e-01 -6.380200e-01 -8.661079e-01  \n",
       "50%   -7.210449e-03 -2.250577e-01 -2.092427e-01  \n",
       "75%    5.757422e-01  4.238832e-01  6.352984e-01  \n",
       "max    4.526866e+00  7.916200e+00  4.201138e+00  "
      ]
     },
     "execution_count": 41,
     "metadata": {},
     "output_type": "execute_result"
    }
   ],
   "source": [
    "normalized_D = (D - D.mean()) / D.std()\n",
    "normalized_D.describe()"
   ]
  },
  {
   "cell_type": "markdown",
   "metadata": {},
   "source": [
    "I'll then plot the normalized data to see if it is easier to seperate the high quality wines."
   ]
  },
  {
   "cell_type": "code",
   "execution_count": 42,
   "metadata": {},
   "outputs": [
    {
     "data": {
      "text/plain": [
       "<matplotlib.legend.Legend at 0x7fb2a90f9640>"
      ]
     },
     "execution_count": 42,
     "metadata": {},
     "output_type": "execute_result"
    },
    {
     "data": {
      "image/png": "[encoded data removed]",
      "text/plain": [
       "<Figure size 432x288 with 1 Axes>"
      ]
     },
     "metadata": {
      "needs_background": "light"
     },
     "output_type": "display_data"
    }
   ],
   "source": [
    "twoDimensionData = PCA(n_components=2).fit_transform(normalized_D)\n",
    "scatter = plt.scatter(twoDimensionData[:, 0], twoDimensionData[:, 1], c=classes)\n",
    "plt.xlabel('First Principal Component')\n",
    "plt.ylabel('Second Principal Component')\n",
    "plt.legend(handles=scatter.legend_elements()[0], labels=[3,4,5,6,7,8])"
   ]
  },
  {
   "cell_type": "markdown",
   "metadata": {},
   "source": [
    "Already we can start to see 7s and 8s in the lower half of the blob, but it's definetly not separated.\n",
    "\n",
    "Next I'll look at all the different numbers possible for principle components and graph their total explained variance. This will help us determine how much we should reduce the dimensionality."
   ]
  },
  {
   "cell_type": "code",
   "execution_count": 182,
   "metadata": {},
   "outputs": [
    {
     "name": "stdout",
     "output_type": "stream",
     "text": [
      "[0.28173931278817277, 0.4568220118429404, 0.5977805108224622, 0.7080743772386735, 0.7952827473610351, 0.8552471350764363, 0.9083190640939516, 0.9467696731537685, 0.9781007746827459, 0.994585608007101]\n"
     ]
    },
    {
     "data": {
      "image/png": "[encoded data removed]",
      "text/plain": [
       "<Figure size 432x288 with 1 Axes>"
      ]
     },
     "metadata": {
      "needs_background": "light"
     },
     "output_type": "display_data"
    }
   ],
   "source": [
    "ans = []\n",
    "for i in range(1,11):\n",
    "  pca = PCA(n_components=i)\n",
    "  pca_data = pca.fit_transform(normalized_D)\n",
    "  ans.append(pca.explained_variance_ratio_.sum())\n",
    "\n",
    "plt.plot(range(1,11), ans)\n",
    "print(ans)"
   ]
  },
  {
   "cell_type": "markdown",
   "metadata": {},
   "source": [
    "Given this graph, I would say we should try 7-10 principle components, as well as not doing PCA at all."
   ]
  },
  {
   "cell_type": "markdown",
   "metadata": {},
   "source": [
    "## Classification\n",
    "Now that we have our data normalized and reduced in dimension, I'll move onto the main topic - predicting quality wines. To do this, I'll use Naieve Bayes classification. I know this is a simple yet powerful technique, and I hope it can help us find what we need.\n",
    "\n",
    "I'll start by using PCA to reduce the data to 7 components, then applying the classification algorithm."
   ]
  },
  {
   "cell_type": "code",
   "execution_count": 185,
   "metadata": {},
   "outputs": [
    {
     "data": {
      "text/plain": [
       "0.5425"
      ]
     },
     "execution_count": 185,
     "metadata": {},
     "output_type": "execute_result"
    }
   ],
   "source": [
    "from sklearn.naive_bayes import GaussianNB\n",
    "from sklearn.model_selection import train_test_split\n",
    "from sklearn.metrics import accuracy_score\n",
    "\n",
    "sevenDimensionData = PCA(n_components=7).fit_transform(normalized_D)\n",
    "\n",
    "\n",
    "X_train, X_test, y_train, y_test = train_test_split(\n",
    "    sevenDimensionData, classes, test_size=0.25)\n",
    "Naive_Bayes = GaussianNB()\n",
    "\n",
    "Naive_Bayes.fit(X_train, y_train)\n",
    "prediction_results = Naive_Bayes.predict(X_test)\n",
    "\n",
    "accuracy_score(y_test, prediction_results)"
   ]
  },
  {
   "cell_type": "markdown",
   "metadata": {},
   "source": [
    "This model so far is not very good. It only has an accuracy slightly above 50%, so it only predicts the correct quality about half the time.\n",
    "\n",
    "However, our goal isn't to predict exactly the quality of the wines, but whether they're 7's or 8's; for this task, I don't care if the algorithm predicts a 3 as a 4 for example. So, I'm going to transform the classes to be a boolean decider and we'll see how the algorith does."
   ]
  },
  {
   "cell_type": "code",
   "execution_count": 187,
   "metadata": {},
   "outputs": [
    {
     "data": {
      "text/plain": [
       "0.8875"
      ]
     },
     "execution_count": 187,
     "metadata": {},
     "output_type": "execute_result"
    }
   ],
   "source": [
    "from sklearn.naive_bayes import GaussianNB\n",
    "from sklearn.model_selection import train_test_split\n",
    "from sklearn.metrics import accuracy_score\n",
    "\n",
    "sevenDimensionData = PCA(n_components=7).fit_transform(normalized_D)\n",
    "\n",
    "boolean_classes = np.logical_or((classes == 7), (classes == 8))\n",
    "\n",
    "X_train, X_test, y_train, y_test = train_test_split(\n",
    "    sevenDimensionData, boolean_classes, test_size=0.25)\n",
    "Naive_Bayes = GaussianNB()\n",
    "\n",
    "Naive_Bayes.fit(X_train, y_train)\n",
    "prediction_results = Naive_Bayes.predict(X_test)\n",
    "\n",
    "accuracy_score(y_test, prediction_results)\n"
   ]
  },
  {
   "cell_type": "markdown",
   "metadata": {},
   "source": [
    "As you can see, it greatly improved the accuracy. Roughly 88% of the time, the classifier can detect if a wine is high quality.\n",
    "\n",
    "Next, I'm going to try this technique with other numbers of principle components and see if that improves our accuracy."
   ]
  },
  {
   "cell_type": "code",
   "execution_count": 204,
   "metadata": {},
   "outputs": [
    {
     "name": "stdout",
     "output_type": "stream",
     "text": [
      "7: 0.9\n",
      "8: 0.87\n",
      "9: 0.8725\n",
      "10: 0.875\n",
      "11: 0.8325\n"
     ]
    }
   ],
   "source": [
    "from sklearn.naive_bayes import GaussianNB\n",
    "from sklearn.model_selection import train_test_split\n",
    "from sklearn.metrics import accuracy_score\n",
    "\n",
    "boolean_classes = np.logical_or((classes == 7), (classes == 8))\n",
    "\n",
    "for i in range (7, 11):\n",
    "  pcaData = PCA(n_components=i).fit_transform(normalized_D)\n",
    "\n",
    "  X_train, X_test, y_train, y_test = train_test_split(\n",
    "      pcaData, boolean_classes, test_size=0.25)\n",
    "  Naive_Bayes = GaussianNB()\n",
    "\n",
    "  Naive_Bayes.fit(X_train, y_train)\n",
    "  prediction_results = Naive_Bayes.predict(X_test)\n",
    "\n",
    "  print (str(i) + \": \" + str(accuracy_score(y_test, prediction_results)))\n",
    "\n",
    "X_train, X_test, y_train, y_test = train_test_split(normalized_D, boolean_classes, test_size=0.25)\n",
    "Naive_Bayes = GaussianNB()\n",
    "\n",
    "Naive_Bayes.fit(X_train, y_train)\n",
    "prediction_results = Naive_Bayes.predict(X_test)\n",
    "\n",
    "print(\"11: \" + str(accuracy_score(y_test, prediction_results)))\n"
   ]
  },
  {
   "cell_type": "markdown",
   "metadata": {},
   "source": [
    "After running this a number of times, it looks like our choice of 7 principle components was a good one - it almost always produced a high accuracy number.\n",
    "\n",
    "Finally, after our reflecting more on our end goal, it becomes clear that accuracy may not be the best way to measure the classifier's success. Our goal is to find which wines are high quality; if we have a few wines we classify as good that actually aren't (False Positives), they will probably get filtered out by sommelier. However, if we pass on a wine because it is classifed as bad (False Negatives), then we will miss out on that wine forever. So, the measure we should most look at is the recall of the True value, which essentially tells us how often we correctly identified a good wine as such. I will write a small helper function to help me determine the recall for true values, then test all the potential priciple components numbers."
   ]
  },
  {
   "cell_type": "code",
   "execution_count": 228,
   "metadata": {},
   "outputs": [],
   "source": [
    "from sklearn.metrics import confusion_matrix\n",
    "import numpy as np\n",
    "\n",
    "# Returns the recall for only true values\n",
    "def goodWineRecall(truth, pred):\n",
    "  matrix = confusion_matrix(truth, pred, labels=[False, True])\n",
    "  recall = matrix[1, 1] / (matrix[1, 1] + matrix[1, 0])\n",
    "  return recall\n"
   ]
  },
  {
   "cell_type": "code",
   "execution_count": 233,
   "metadata": {},
   "outputs": [
    {
     "name": "stdout",
     "output_type": "stream",
     "text": [
      "7: 0.28846153846153844\n",
      "8: 0.45098039215686275\n",
      "9: 0.3090909090909091\n",
      "10: 0.42857142857142855\n",
      "11: 0.7924528301886793\n"
     ]
    }
   ],
   "source": [
    "from sklearn.naive_bayes import GaussianNB\n",
    "from sklearn.model_selection import train_test_split\n",
    "\n",
    "boolean_classes = np.logical_or((classes == 7), (classes == 8))\n",
    "\n",
    "for i in range(7, 11):\n",
    "  pcaData = PCA(n_components=i).fit_transform(normalized_D)\n",
    "\n",
    "  X_train, X_test, y_train, y_test = train_test_split(\n",
    "      pcaData, boolean_classes, test_size=0.25)\n",
    "  Naive_Bayes = GaussianNB()\n",
    "\n",
    "  Naive_Bayes.fit(X_train, y_train)\n",
    "  prediction_results = Naive_Bayes.predict(X_test)\n",
    "\n",
    "  print(str(i) + \": \" + str(goodWineRecall(y_test, prediction_results)))\n",
    "\n",
    "X_train, X_test, y_train, y_test = train_test_split(\n",
    "    normalized_D, boolean_classes, test_size=0.25)\n",
    "Naive_Bayes = GaussianNB()\n",
    "\n",
    "Naive_Bayes.fit(X_train, y_train)\n",
    "prediction_results = Naive_Bayes.predict(X_test)\n",
    "\n",
    "print(\"11: \" + str(goodWineRecall(y_test, prediction_results)))\n"
   ]
  },
  {
   "cell_type": "markdown",
   "metadata": {},
   "source": [
    "As we can see, the recall numbers are not quite as impressive as the accuracy. However, if we use all 11 columns of normalized data, we can recall 80% of high quality wines.\n",
    "\n",
    "Overall, I think this experiment was moderately successful, but I think there are a number of other avenues I would like to explore. The one that immediately comes to mind is applying other classification algorithms such as logistic regression or a neural network. Another promising idea is using DBSCAN to find outliers in the dataset, then using a simple classifier to decide between exceptionally poor wines and exceptionally good wines."
   ]
  },
  {
   "cell_type": "markdown",
   "metadata": {},
   "source": [
    "## Works Cited\n",
    "P. Cortez, A. Cerdeira, F. Almeida, T. Matos and J. Reis. \n",
    "Modeling wine preferences by data mining from physicochemical properties. In Decision Support Systems, Elsevier, 47(4):547-553, 2009."
   ]
  }
 ],
 "metadata": {
  "interpreter": {
   "hash": "b7bc25dbafc7c2ed634f1f5a1777603b8cc041d4fff2a76c510189640a6a8964"
  },
  "kernelspec": {
   "display_name": "Python 3.9.7 ('csci347')",
   "language": "python",
   "name": "python3"
  },
  "language_info": {
   "codemirror_mode": {
    "name": "ipython",
    "version": 3
   },
   "file_extension": ".py",
   "mimetype": "text/x-python",
   "name": "python",
   "nbconvert_exporter": "python",
   "pygments_lexer": "ipython3",
   "version": "3.9.7"
  },
  "orig_nbformat": 4
 },
 "nbformat": 4,
 "nbformat_minor": 2
}
